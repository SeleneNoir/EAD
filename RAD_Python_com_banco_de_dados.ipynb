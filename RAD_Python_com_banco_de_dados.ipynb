{
 "cells": [
  {
   "cell_type": "markdown",
   "metadata": {},
   "source": [
    "# Desenvolvimento rápido de aplicações em Python"
   ]
  },
  {
   "cell_type": "code",
   "execution_count": null,
   "metadata": {},
   "outputs": [],
   "source": [
    "# Integração com banco de dados\n",
    "import sqlite3\n",
    "conexao = sqlite3.connect('meu_banco.db')"
   ]
  },
  {
   "cell_type": "markdown",
   "metadata": {},
   "source": [
    "### Para criar um banco em memória pode ser utilizado o seguinte comando: conexao = sqlite3.connect(':memory:')."
   ]
  },
  {
   "cell_type": "code",
   "execution_count": 5,
   "metadata": {},
   "outputs": [],
   "source": [
    "import sqlite3 as conector\n",
    "\n",
    "try:\n",
    "    # Abertura de conexão e aquisição de cursor\n",
    "    conexao = conector.connect(\"./meu_banco.db\")\n",
    "    cursor = conexao.cursor()\n",
    "\n",
    "   # Execução de um comando: SELECT... CREATE ...\n",
    "    comando = '''CREATE TABLE Pessoa (\n",
    "                     cpf INTEGER NOT NULL,\n",
    "                     nome TEXT NOT NULL,\n",
    "                     nascimento DATE NOT NULL,\n",
    "                     oculos BOOLEAN NOT NULL,\n",
    "                     PRIMARY KEY (cpf)\n",
    "                     );'''\n",
    " \n",
    "    cursor.execute(comando)\n",
    " \n",
    "    # Efetivação do comando\n",
    "    conexao.commit()\n",
    " \n",
    "except conector.DatabaseError as err:\n",
    "    print(\"Erro de banco de dados\", err)\n",
    " \n",
    "finally:\n",
    "     # Fechamento das conexões\n",
    "     if conexao:\n",
    "         cursor.close()\n",
    "         conexao.close()"
   ]
  },
  {
   "cell_type": "code",
   "execution_count": 6,
   "metadata": {},
   "outputs": [],
   "source": [
    "try:\n",
    "    # Abertura de conexão e aquisição de cursor\n",
    "    conexao = conector.connect(\"./meu_banco.db\")\n",
    "    cursor = conexao.cursor()\n",
    "\n",
    "   # Execução de um comando: SELECT... CREATE ...\n",
    "    comando = '''CREATE TABLE Marca (\n",
    "                  id INTEGER NOT NULL,\n",
    "                  nome TEXT NOT NULL,\n",
    "                  sigla CHARACTER(2) NOT NULL,\n",
    "                  PRIMARY KEY (id)\n",
    "                  );'''\n",
    " \n",
    "    cursor.execute(comando)\n",
    " \n",
    "    # Efetivação do comando\n",
    "    conexao.commit()\n",
    " \n",
    "except conector.DatabaseError as err:\n",
    "    print(\"Erro de banco de dados\", err)\n",
    " \n",
    "finally:\n",
    "     # Fechamento das conexões\n",
    "     if conexao:\n",
    "         cursor.close()\n",
    "         conexao.close()"
   ]
  },
  {
   "cell_type": "code",
   "execution_count": 7,
   "metadata": {},
   "outputs": [],
   "source": [
    "try:\n",
    "    # Abertura de conexão e aquisição de cursor\n",
    "    conexao = conector.connect(\"./meu_banco.db\")\n",
    "    cursor = conexao.cursor()\n",
    "\n",
    "   # Execução de um comando: SELECT... CREATE ...\n",
    "    comando = '''CREATE TABLE Veiculo (\n",
    "                  placa CHARACTER(7) NOT NULL,\n",
    "                  ano INTEGER NOT NULL,\n",
    "                  cor TEXT NOT NULL,\n",
    "                  proprietario INTEGER NOT NULL,\n",
    "                  marca INTEGER NOT NULL,\n",
    "                  PRIMARY KEY (placa),\n",
    "                  FOREIGN KEY(proprietario) REFERENCES Pessoa(cpf),\n",
    "                  FOREIGN KEY(marca) REFERENCES Marca(id)\n",
    "                  );'''\n",
    " \n",
    "    cursor.execute(comando)\n",
    " \n",
    "    # Efetivação do comando\n",
    "    conexao.commit()\n",
    " \n",
    "except conector.DatabaseError as err:\n",
    "    print(\"Erro de banco de dados\", err)\n",
    " \n",
    "finally:\n",
    "     # Fechamento das conexões\n",
    "     if conexao:\n",
    "         cursor.close()\n",
    "         conexao.close()"
   ]
  },
  {
   "cell_type": "code",
   "execution_count": 8,
   "metadata": {},
   "outputs": [],
   "source": [
    "# Abertura de conexão e aquisição de cursor\n",
    "conexao = conector.connect(\"./meu_banco.db\")\n",
    "cursor = conexao.cursor()\n",
    " \n",
    "# Execução de um comando: SELECT... CREATE ...\n",
    "comando = '''ALTER TABLE Veiculo\n",
    "                 ADD motor REAL;'''\n",
    "  \n",
    "cursor.execute(comando)\n",
    "  \n",
    "# Efetivação do comando\n",
    "conexao.commit()"
   ]
  },
  {
   "cell_type": "code",
   "execution_count": 9,
   "metadata": {},
   "outputs": [],
   "source": [
    "# Abertura de conexão e aquisição de cursor\n",
    "conexao = conector.connect(\"./meu_banco.db\")\n",
    "cursor = conexao.cursor()\n",
    "\n",
    "# Execução de um comando: SELECT... CREATE ...\n",
    "comando1 = '''DROP TABLE Veiculo;'''\n",
    "\n",
    "cursor.execute(comando1)\n",
    "\n",
    "comando2 = '''CREATE TABLE Veiculo (\n",
    "               placa CHARACTER(7) NOT NULL,\n",
    "                ano INTEGER NOT NULL,\n",
    "               cor TEXT NOT NULL,\n",
    "                motor REAL NOT NULL,\n",
    "               proprietario INTEGER NOT NULL,\n",
    "                marca INTEGER NOT NULL,\n",
    "               PRIMARY KEY (placa),\n",
    "                FOREIGN KEY(proprietario) REFERENCES Pessoa(cpf),\n",
    "               FOREIGN KEY(marca) REFERENCES Marca(id)\n",
    "                );'''\n",
    "\n",
    "cursor.execute(comando2)\n",
    "\n",
    "# Efetivação do comando\n",
    "conexao.commit()\n",
    "\n",
    "# Fechamento das conexões\n",
    "cursor.close()\n",
    "conexao.close()"
   ]
  },
  {
   "cell_type": "code",
   "execution_count": 10,
   "metadata": {},
   "outputs": [],
   "source": [
    "# Abertura de conexão e aquisição de cursor\n",
    "conexao = conector.connect(\"./meu_banco.db\")\n",
    "cursor = conexao.cursor()\n",
    " \n",
    "# Execução de um comando: SELECT... CREATE ...\n",
    "comando = '''INSERT INTO Pessoa (cpf, nome, nascimento, oculos)\n",
    "       VALUES (12345678900, 'João', '2000-01-31', 1);'''\n",
    "  \n",
    "cursor.execute(comando)\n",
    "  \n",
    "# Efetivação do comando\n",
    "conexao.commit()\n",
    "  \n",
    "# Fechamento das conexões\n",
    "cursor.close()\n",
    "conexao.close()"
   ]
  },
  {
   "cell_type": "code",
   "execution_count": 20,
   "metadata": {},
   "outputs": [],
   "source": [
    "class Pessoa:\n",
    "    def __init__(self, cpf, nome, data_nascimento, usa_oculos):\n",
    "        self.cpf = cpf\n",
    "        self.nome = nome\n",
    "        self.data_nascimento = data_nascimento\n",
    "        self.usa_oculos = usa_oculos\n",
    "        self.veiculos = []\n",
    "\n",
    "class Marca:\n",
    "    def __init__(self, id, nome, sigla):\n",
    "        self.id = id\n",
    "        self.nome = nome\n",
    "        self.sigla = sigla\n",
    "\n",
    " \n",
    "class Veiculo:\n",
    "    def __init__(self, placa, ano, cor, motor, proprietario, marca):\n",
    "        self.placa = placa\n",
    "        self.ano = ano\n",
    "        self.cor = cor\n",
    "        self.motor = motor\n",
    "        self.proprietario = proprietario\n",
    "        self.marca = marca"
   ]
  },
  {
   "cell_type": "code",
   "execution_count": 16,
   "metadata": {},
   "outputs": [],
   "source": [
    "# Abertura de conexão e aquisição de cursor\n",
    "conexao = conector.connect(\"./meu_banco.db\")\n",
    "cursor = conexao.cursor()\n",
    "\n",
    "# Criação de um objeto do tipo Pessoa\n",
    "pessoa = Pessoa(10000000099, 'Maria', '1990-01-31', False)\n",
    "\n",
    "# Definição de um comando com query parameter\n",
    "comando = '''INSERT INTO Pessoa (cpf, nome, nascimento, oculos) VALUES (?, ?, ?, ?);'''\n",
    "cursor.execute(comando, (pessoa.cpf, pessoa.nome, pessoa.data_nascimento, pessoa.usa_oculos))\n",
    "\n",
    "# Efetivação do comando\n",
    "conexao.commit()\n",
    "\n",
    "# Fechamento das conexões\n",
    "cursor.close()\n",
    "conexao.close()"
   ]
  },
  {
   "cell_type": "markdown",
   "metadata": {},
   "source": [
    "### Inserção de dados em tabela com queries dinâmicas e nomes"
   ]
  },
  {
   "cell_type": "code",
   "execution_count": 17,
   "metadata": {},
   "outputs": [],
   "source": [
    "# Abertura de conexão e aquisição de cursor\n",
    "conexao = conector.connect(\"./meu_banco.db\")\n",
    "cursor = conexao.cursor()\n",
    " \n",
    "# Criação de um objeto do tipo Pessoa\n",
    "pessoa = Pessoa(20000000099, 'José', '1990-02-28', False)\n",
    "  \n",
    "# Definição de um comando com query parameter\n",
    "comando = '''INSERT INTO Pessoa (cpf, nome, nascimento, oculos)\n",
    "                     VALUES (:cpf,:nome,:data_nascimento,:usa_oculos);'''\n",
    "cursor.execute(comando, {\"cpf\": pessoa.cpf,\n",
    "                           \"nome\": pessoa.nome,\n",
    "                           \"data_nascimento\": pessoa.data_nascimento,\n",
    "                           \"usa_oculos\": pessoa.usa_oculos})\n",
    "  \n",
    "# Efetivação do comando\n",
    "conexao.commit()\n",
    "  \n",
    "# Fechamento das conexões\n",
    "cursor.close()\n",
    "conexao.close()"
   ]
  },
  {
   "cell_type": "markdown",
   "metadata": {},
   "source": [
    "### Exemplo simplificado:"
   ]
  },
  {
   "cell_type": "code",
   "execution_count": null,
   "metadata": {},
   "outputs": [
    {
     "name": "stdout",
     "output_type": "stream",
     "text": [
      "{'cpf': 30000000099, 'nome': 'Silva', 'data_nascimento': '1990-03-30', 'usa_oculos': True}\n"
     ]
    }
   ],
   "source": [
    "# Abertura de conexão e aquisição de cursor\n",
    "conexao = conector.connect(\"./meu_banco.db\")\n",
    "cursor = conexao.cursor()\n",
    "\n",
    "# Criação de um objeto do tipo Pessoa\n",
    "pessoa = Pessoa(30000000099, 'Silva', '1990-03-30', True)\n",
    "\n",
    "# Definição de um comando com named parameter\n",
    "comando = '''INSERT INTO Pessoa VALUES (:cpf,:nome,:data_nascimento,:usa_oculos);'''\n",
    "cursor.execute(comando, vars(pessoa)) # A função interna vars retorna todos os atributos de um objeto na forma de dicionário, no qual cada chave é o nome de um atributo.\n",
    "print(vars(pessoa))\n",
    "\n",
    "# Efetivação do comando\n",
    "conexao.commit()\n",
    "\n",
    "# Fechamento das conexões\n",
    "cursor.close()\n",
    "conexao.close()"
   ]
  },
  {
   "cell_type": "markdown",
   "metadata": {},
   "source": [
    "### Inserção de dados nas tabelas Marca e Veículo"
   ]
  },
  {
   "cell_type": "code",
   "execution_count": 21,
   "metadata": {},
   "outputs": [],
   "source": [
    "conexao = conector.connect(\"./meu_banco.db\")\n",
    "conexao.execute(\"PRAGMA foreign_keys = on\")\n",
    "cursor = conexao.cursor()\n",
    "\n",
    "# Inserção de dados na tabela Marca\n",
    "comando1 = '''INSERT INTO Marca (nome, sigla) VALUES (:nome, :sigla);'''\n",
    "\n",
    "marca1 = Marca(1, \"Marca A\", \"MA\")\n",
    "cursor.execute(comando1, vars(marca1))\n",
    "marca1.id = cursor.lastrowid\n",
    "\n",
    "marca2 = Marca(2, \"Marca B\", \"MB\")\n",
    "cursor.execute(comando1, vars(marca2))\n",
    "marca2.id = cursor.lastrowid\n",
    "\n",
    "# Inserção de dados na tabela Veiculo\n",
    "comando2 = '''INSERT INTO Veiculo\n",
    "                VALUES (:placa, :ano, :cor, :motor, :proprietario, :marca);'''\n",
    "veiculo1 = Veiculo(\"AAA0001\", 2001, \"Prata\", 1.0, 10000000099, marca1.id)\n",
    "veiculo2 = Veiculo(\"BAA0002\", 2002, \"Preto\", 1.4, 10000000099, marca1.id)\n",
    "veiculo3 = Veiculo(\"CAA0003\", 2003, \"Branco\", 2.0, 20000000099, marca2.id)\n",
    "veiculo4 = Veiculo(\"DAA0004\", 2004, \"Azul\", 2.2, 30000000099, marca2.id)\n",
    "cursor.execute(comando2, vars(veiculo1))\n",
    "cursor.execute(comando2, vars(veiculo2))\n",
    "cursor.execute(comando2, vars(veiculo3))\n",
    "cursor.execute(comando2, vars(veiculo4))\n",
    "\n",
    "# Efetivação do comando\n",
    "conexao.commit()\n",
    "\n",
    "# Fechamento das conexões\n",
    "cursor.close()\n",
    "conexao.close()"
   ]
  },
  {
   "cell_type": "markdown",
   "metadata": {},
   "source": [
    "OBS: O comando PRAGMA é uma extensão do SQL exclusiva do SQLite, usada para ajustar certos comportamentos internos do banco de dados. Por padrão, o SQLite não aplica a verificação de restrições de chave estrangeira."
   ]
  },
  {
   "cell_type": "markdown",
   "metadata": {},
   "source": [
    "## Atualização e remoção de dados de uma tabela"
   ]
  },
  {
   "cell_type": "code",
   "execution_count": 22,
   "metadata": {},
   "outputs": [],
   "source": [
    "# Abertura de conexão e aquisição de cursor\n",
    "conexao = conector.connect(\"./meu_banco.db\")\n",
    "conexao.execute(\"PRAGMA foreign_keys = on\")\n",
    "cursor = conexao.cursor()\n",
    "\n",
    "# Definição dos comandos\n",
    "comando1 = '''UPDATE Pessoa SET oculos= 1;'''\n",
    "cursor.execute(comando1)\n",
    "\n",
    "comando2 = '''UPDATE Pessoa SET oculos= ? WHERE cpf=30000000099;'''\n",
    "cursor.execute(comando2, (False,))\n",
    "\n",
    "comando3 = '''UPDATE Pessoa SET oculos= :usa_oculos WHERE cpf= :cpf;'''\n",
    "cursor.execute(comando3, {\"usa_oculos\": False, \"cpf\": 20000000099})\n",
    "\n",
    "# Efetivação do comando\n",
    "conexao.commit()\n",
    "\n",
    "# Fechamento das conexões\n",
    "cursor.close()\n",
    "conexao.close()"
   ]
  },
  {
   "cell_type": "code",
   "execution_count": 23,
   "metadata": {},
   "outputs": [],
   "source": [
    "# Abertura de conexão e aquisição de cursor\n",
    "conexao = conector.connect(\"./meu_banco.db\")\n",
    "conexao.execute(\"PRAGMA foreign_keys = on\")\n",
    "cursor = conexao.cursor()\n",
    "\n",
    "# Definição dos comandos\n",
    "comando = '''DELETE FROM Pessoa WHERE cpf= 12345678900;'''\n",
    "cursor.execute(comando)\n",
    "\n",
    "# Efetivação do comando\n",
    "conexao.commit()\n",
    "\n",
    "# Fechamento das conexões\n",
    "cursor.close()\n",
    "conexao.close()"
   ]
  },
  {
   "cell_type": "markdown",
   "metadata": {},
   "source": [
    "## Recuperação de registros do banco de dados"
   ]
  },
  {
   "cell_type": "code",
   "execution_count": 24,
   "metadata": {},
   "outputs": [
    {
     "name": "stdout",
     "output_type": "stream",
     "text": [
      "Tipo retornado pelo fetchall(): <class 'list'>\n",
      "Tipo: <class 'tuple'> - Conteúdo: ('Maria', 1)\n",
      "Tipo: <class 'tuple'> - Conteúdo: ('José', 0)\n",
      "Tipo: <class 'tuple'> - Conteúdo: ('Silva', 0)\n"
     ]
    }
   ],
   "source": [
    "# Abertura de conexão e aquisição de cursor\n",
    "conexao = conector.connect(\"./meu_banco.db\")\n",
    "cursor = conexao.cursor()\n",
    "\n",
    "# Definição dos registros\n",
    "comando = '''SELECT nome, oculos FROM Pessoa;'''\n",
    "cursor.execute(comando)\n",
    "\n",
    "# Recuperação dos dados\n",
    "registros = cursor.fetchall()\n",
    "print(\"Tipo retornado pelo fetchall():\", type(registros))\n",
    "\n",
    "for registro in registros:\n",
    "    print(\"Tipo:\", type(registro), \"- Conteúdo:\", registro)\n",
    "\n",
    "# Fechamento das conexões\n",
    "cursor.close()\n",
    "conexao.close()"
   ]
  },
  {
   "cell_type": "code",
   "execution_count": 25,
   "metadata": {},
   "outputs": [
    {
     "name": "stdout",
     "output_type": "stream",
     "text": [
      "cpf: <class 'int'> 10000000099\n",
      "nome: <class 'str'> Maria\n",
      "nascimento: <class 'str'> 1990-01-31\n",
      "oculos: <class 'int'> 1\n"
     ]
    }
   ],
   "source": [
    "# Abertura de conexão e aquisição de cursor\n",
    "conexao = conector.connect(\"./meu_banco.db\")\n",
    "cursor = conexao.cursor()\n",
    "\n",
    "# Definição dos comandos\n",
    "comando = '''SELECT * FROM Pessoa WHERE oculos=:usa_oculos;'''\n",
    "cursor.execute(comando, {\"usa_oculos\": True})\n",
    "\n",
    "# Recuperação dos registros\n",
    "registros = cursor.fetchall()\n",
    "for registro in registros:\n",
    "    pessoa = Pessoa(*registro)\n",
    "    print(\"cpf:\", type(pessoa.cpf), pessoa.cpf)\n",
    "    print(\"nome:\", type(pessoa.nome), pessoa.nome)\n",
    "    print(\"nascimento:\", type(pessoa.data_nascimento), pessoa.data_nascimento)\n",
    "    print(\"oculos:\", type(pessoa.usa_oculos), pessoa.usa_oculos)\n",
    "\n",
    "# Fechamento das conexões\n",
    "cursor.close()\n",
    "conexao.close()"
   ]
  },
  {
   "cell_type": "markdown",
   "metadata": {},
   "source": [
    "## Conversão de datas e booleanos."
   ]
  },
  {
   "cell_type": "code",
   "execution_count": 26,
   "metadata": {},
   "outputs": [
    {
     "name": "stdout",
     "output_type": "stream",
     "text": [
      "cpf: <class 'int'> 10000000099\n",
      "nome: <class 'str'> Maria\n",
      "nascimento: <class 'datetime.date'> 1990-01-31\n",
      "oculos: <class 'bool'> False\n"
     ]
    },
    {
     "name": "stderr",
     "output_type": "stream",
     "text": [
      "C:\\Users\\pelli\\AppData\\Local\\Temp\\ipykernel_8920\\30398943.py:17: DeprecationWarning: The default date converter is deprecated as of Python 3.12; see the sqlite3 documentation for suggested replacement recipes\n",
      "  registros = cursor.fetchall()\n"
     ]
    }
   ],
   "source": [
    "# Abertura de conexão e aquisição de cursor\n",
    "conexao = conector.connect(\"./meu_banco.db\", detect_types=conector.PARSE_DECLTYPES)\n",
    "cursor = conexao.cursor()\n",
    "\n",
    "# Funções conversoras\n",
    "def conv_bool(dado):\n",
    "    return True if dado == 1 else False\n",
    "\n",
    "# Registro de conversores\n",
    "conector.register_converter(\"BOOLEAN\", conv_bool)\n",
    "\n",
    "# Definição dos comandos\n",
    "comando = '''SELECT * FROM Pessoa WHERE oculos=:usa_oculos;'''\n",
    "cursor.execute(comando, {\"usa_oculos\": True})\n",
    "\n",
    "# Recuperação dos registros\n",
    "registros = cursor.fetchall()\n",
    "for registro in registros:\n",
    "    pessoa = Pessoa(*registro)\n",
    "    print(\"cpf:\", type(pessoa.cpf), pessoa.cpf)\n",
    "    print(\"nome:\", type(pessoa.nome), pessoa.nome)\n",
    "    print(\"nascimento:\", type(pessoa.data_nascimento), pessoa.data_nascimento)\n",
    "    print(\"oculos:\", type(pessoa.usa_oculos), pessoa.usa_oculos)\n",
    "\n",
    "# Fechamento das conexões\n",
    "cursor.close()\n",
    "conexao.close()"
   ]
  },
  {
   "cell_type": "markdown",
   "metadata": {},
   "source": [
    "## Seleção de registros utilizando junção"
   ]
  },
  {
   "cell_type": "code",
   "execution_count": 27,
   "metadata": {},
   "outputs": [
    {
     "name": "stdout",
     "output_type": "stream",
     "text": [
      "Placa: AAA0001 , Marca: 1\n",
      "Placa: BAA0002 , Marca: 1\n",
      "Placa: CAA0003 , Marca: 2\n",
      "Placa: DAA0004 , Marca: 2\n"
     ]
    }
   ],
   "source": [
    "# Abertura de conexão e aquisição de cursor\n",
    "conexao = conector.connect(\"./meu_banco.db\")\n",
    "cursor = conexao.cursor()\n",
    "\n",
    "# Definição dos comandos\n",
    "comando = '''SELECT * FROM Veiculo;'''\n",
    "cursor.execute(comando)\n",
    "\n",
    "# Recuperação dos registros\n",
    "reg_veiculos = cursor.fetchall()\n",
    "for reg_veiculo in reg_veiculos:\n",
    "    veiculo = Veiculo(*reg_veiculo)\n",
    "    print(\"Placa:\", veiculo.placa, \", Marca:\", veiculo.marca)\n",
    "\n",
    "# Fechamento das conexões\n",
    "cursor.close()\n",
    "conexao.close()"
   ]
  },
  {
   "cell_type": "code",
   "execution_count": 28,
   "metadata": {},
   "outputs": [
    {
     "name": "stdout",
     "output_type": "stream",
     "text": [
      "Placa: AAA0001 , Marca: Marca A\n",
      "Placa: BAA0002 , Marca: Marca A\n",
      "Placa: CAA0003 , Marca: Marca B\n",
      "Placa: DAA0004 , Marca: Marca B\n"
     ]
    }
   ],
   "source": [
    "# Abertura de conexão e aquisição de cursor\n",
    "conexao = conector.connect(\"./meu_banco.db\")\n",
    "cursor = conexao.cursor()\n",
    "\n",
    "# Definição dos comandos \n",
    "comando = ''' \n",
    " SELECT Veiculo.placa, Veiculo.ano, Veiculo.cor, Veiculo.motor, Veiculo.proprietario, Marca.nome \n",
    " FROM Veiculo \n",
    " JOIN Marca ON Marca.id = Veiculo.marca;'''\n",
    "cursor.execute(comando)\n",
    "\n",
    "# Recuperação dos registros\n",
    "reg_veiculos = cursor.fetchall()\n",
    "for reg_veiculo in reg_veiculos:\n",
    "    veiculo = Veiculo(*reg_veiculo)\n",
    "    print(\"Placa:\", veiculo.placa, \", Marca:\", veiculo.marca)\n",
    "\n",
    "# Fechamento das conexões\n",
    "cursor.close()\n",
    "conexao.close()"
   ]
  }
 ],
 "metadata": {
  "kernelspec": {
   "display_name": "Python 3",
   "language": "python",
   "name": "python3"
  },
  "language_info": {
   "codemirror_mode": {
    "name": "ipython",
    "version": 3
   },
   "file_extension": ".py",
   "mimetype": "text/x-python",
   "name": "python",
   "nbconvert_exporter": "python",
   "pygments_lexer": "ipython3",
   "version": "3.12.6"
  }
 },
 "nbformat": 4,
 "nbformat_minor": 2
}
