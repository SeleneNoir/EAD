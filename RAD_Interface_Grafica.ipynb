{
 "cells": [
  {
   "cell_type": "markdown",
   "metadata": {},
   "source": [
    "# Interface gráfica com Python"
   ]
  },
  {
   "cell_type": "code",
   "execution_count": 6,
   "metadata": {},
   "outputs": [],
   "source": [
    "import tkinter as tk"
   ]
  },
  {
   "cell_type": "code",
   "execution_count": null,
   "metadata": {},
   "outputs": [],
   "source": [
    "tk._test()"
   ]
  },
  {
   "cell_type": "code",
   "execution_count": null,
   "metadata": {},
   "outputs": [],
   "source": [
    "janela = tk.Tk()\n",
    "janela.title(\" Aplicação GUI\")\n",
    "janela.mainloop()"
   ]
  },
  {
   "cell_type": "code",
   "execution_count": 8,
   "metadata": {},
   "outputs": [],
   "source": [
    "janela = tk.Tk()\n",
    "janela.title(\" Aplicação GUI NÃO Dimensionável\") \n",
    "janela.resizable(False, False)\n",
    "janela.mainloop()"
   ]
  },
  {
   "cell_type": "code",
   "execution_count": 9,
   "metadata": {},
   "outputs": [],
   "source": [
    "import tkinter as tk\n",
    "from tkinter import ttk\n",
    "janela = tk.Tk()\n",
    "janela.title(\" Aplicação GUI com o Widget Label\") \n",
    "ttk.Label(janela, text=\"Componente Label\" ).grid(column=0, row=0)\n",
    "janela.mainloop()"
   ]
  },
  {
   "cell_type": "code",
   "execution_count": null,
   "metadata": {},
   "outputs": [],
   "source": [
    "contador = 0\n",
    "def contador_label(lblRotulo):\n",
    "   def funcao_contar():\n",
    "      global contador\n",
    "      contador = contador + 1\n",
    "      lblRotulo.config(text=str(contador))\n",
    "      lblRotulo.after(1000, funcao_contar)\n",
    "      funcao_contar()\n",
    "janela = tk.Tk()\n",
    "janela.title(\"Contagem dos Segundos\")\n",
    "lblRotulo = tk.Label(janela, fg=\"green\")\n",
    "lblRotulo.pack()\n",
    "contador_label(lblRotulo)\n",
    "btnAcao = tk.Button(janela, text='Clique aqui para Interromper a contagem', width=50, command=janela.destroy)\n",
    "btnAcao.pack()\n",
    "janela.mainloop()"
   ]
  },
  {
   "cell_type": "code",
   "execution_count": 12,
   "metadata": {},
   "outputs": [
    {
     "name": "stdout",
     "output_type": "stream",
     "text": [
      "Nome: \n",
      "Sobrenome: \n",
      "Nome: Sim\n",
      "Sobrenome: testt\n"
     ]
    }
   ],
   "source": [
    "def mostrar_nomes():\n",
    "   print(\"Nome: %s\\nSobrenome: %s\" % (e1.get(), e2.get()))\n",
    "janela = tk.Tk()\n",
    "janela.title(\"Aplicação GUI com o Widget Entry\")\n",
    "tk.Label(janela,text=\"Nome\").grid(row=0)\n",
    "\n",
    "tk.Label(janela,text=\"Sobrenome\").grid(row=1)\n",
    "e1 = tk.Entry(janela)\n",
    "e2 = tk.Entry(janela)\n",
    "e1.grid(row=0, column=1)\n",
    "e2.grid(row=1, column=1)\n",
    "tk.Button(janela, text='Sair',command=janela.quit).grid(row=3,column=0,sticky=tk.W,pady=4)\n",
    "tk.Button(janela, text='Exibir Dados', command=mostrar_nomes).grid(row=3,column=1,sticky=tk.W,pady=4)\n",
    "tk.mainloop()"
   ]
  },
  {
   "cell_type": "code",
   "execution_count": 13,
   "metadata": {},
   "outputs": [],
   "source": [
    "janela = tk.Tk()\n",
    "v = tk.IntVar()\n",
    "tk.Label(janela,text=\"\"\"Escolha uma linguagem de programação:\"\"\",justify = tk.LEFT, padx = 20).pack()\n",
    "tk.Radiobutton(janela,text=\"python\",padx = 25,variable=v,value=1).pack(anchor=tk.W)\n",
    "tk.Radiobutton(janela,text=\"C++\",padx = 25,variable=v,value=2).pack(anchor=tk.W)\n",
    "janela.mainloop()"
   ]
  },
  {
   "cell_type": "code",
   "execution_count": 14,
   "metadata": {},
   "outputs": [
    {
     "name": "stdout",
     "output_type": "stream",
     "text": [
      "Gerencial: 1,\n",
      "Técnica : 1\n",
      "Gerencial: 1,\n",
      "Técnica : 0\n"
     ]
    }
   ],
   "source": [
    "janela = tk.Tk()\n",
    "def escolha_carreira():\n",
    "   print(\"Gerencial: %d,\\nTécnica : %d\" % (var1.get(), var2.get()))\n",
    "ttk.Label(janela, text=\"Escolha sua vocação:\").grid(row=0, sticky=tk.W)\n",
    "var1 = tk.IntVar()\n",
    "ttk.Checkbutton(janela, text=\"Gerencial\", variable=var1).grid(row=1, sticky=tk.W)\n",
    "var2 = tk.IntVar()\n",
    "ttk.Checkbutton(janela, text=\"Técnica\", variable=var2).grid(row=2, sticky=tk.W)\n",
    "ttk.Button(janela, text='Sair', command=janela.quit).grid(row=3, sticky=tk.W, pady=4)\n",
    "ttk.Button(janela, text='Mostrar', command=escolha_carreira).grid(row=4, sticky=tk.W, pady=4)\n",
    "janela.mainloop()"
   ]
  },
  {
   "cell_type": "code",
   "execution_count": 15,
   "metadata": {},
   "outputs": [],
   "source": [
    "janela = tk.Tk()\n",
    "T = tk.Text(janela, height=2, width=30)\n",
    "T.pack()\n",
    "T.insert(tk.END, \"Este é um texto\\ncom duas linhas\\n\")\n",
    "tk.mainloop()"
   ]
  },
  {
   "cell_type": "code",
   "execution_count": 16,
   "metadata": {},
   "outputs": [],
   "source": [
    "janela = tk.Tk()\n",
    "mensagem_para_usuario = \"Esta é uma mensagem.\\n(Pode ser bastante útil para o usuário)\"\n",
    "msg = tk.Message(janela, text = mensagem_para_usuario)\n",
    "msg.config(bg='lightgreen', font=('times', 24, 'italic'))\n",
    "msg.pack()\n",
    "janela.mainloop()"
   ]
  },
  {
   "cell_type": "code",
   "execution_count": 17,
   "metadata": {},
   "outputs": [
    {
     "name": "stdout",
     "output_type": "stream",
     "text": [
      "8.13953488372093 43.02325581395349\n"
     ]
    }
   ],
   "source": [
    "def mostrar_valores():\n",
    "   print (w1.get(), w2.get())\n",
    "janela = tk.Tk()\n",
    "w1 = ttk.Scale(janela, from_=0, to=50)\n",
    "w1.pack()\n",
    "w2 = ttk.Scale(janela, from_=0, to=100, orient=tk.HORIZONTAL)\n",
    "w2.pack()\n",
    "ttk.Button(janela, text='Mostrar a Escala', command=mostrar_valores).pack()\n",
    "janela.mainloop()"
   ]
  },
  {
   "cell_type": "code",
   "execution_count": 18,
   "metadata": {},
   "outputs": [],
   "source": [
    "from tkinter import messagebox as mb\n",
    "def resposta():\n",
    "   mb.showerror(\"Resposta\", \"Desculpe, nenhuma resposta disponível!\")\n",
    "def verificacao():\n",
    "   if mb.askyesno('Verificar', 'Realmente quer sair?'):\n",
    "      mb.showwarning('Yes', 'Ainda não foi implementado')\n",
    "   else:\n",
    "      mb.showinfo('No', 'A opção de Sair foi cancelada')\n",
    "tk.Button(text='Sair', command=verificacao).pack(fill=tk.X)\n",
    "tk.Button(text='Resposta', command=resposta).pack(fill=tk.X)\n",
    "tk.mainloop()"
   ]
  },
  {
   "cell_type": "code",
   "execution_count": 19,
   "metadata": {},
   "outputs": [],
   "source": [
    "# Criação de uma janela tkinter\n",
    "janela = tk.Tk()\n",
    "janela.title('Combobox')\n",
    "janela.geometry('500x250')\n",
    "\n",
    "# Componente Label\n",
    "ttk.Label(janela, text = \"Combobox Widget\",background = 'green', foreground =\"white\",font = (\"Times New Roman\", 15)).grid(row = 0, column = 1)\n",
    "\n",
    "# Componente Label\n",
    "ttk.Label(janela, text = \"Selecione um mês :\",font = (\"Times New Roman\", 10)).grid(column = 0,row = 5, padx = 10, pady = 25)\n",
    "\n",
    "# Componente Combobox\n",
    "n = tk.StringVar()\n",
    "escolha = ttk.Combobox(janela, width = 27, textvariable = n)\n",
    "\n",
    "# Adição de itens no Combobox\n",
    "escolha['values'] = (' Janeiro',' Fevereiro',' Março',' Abril',' Maio',' Junho',' Julho',' Agosto',' Setembro',' Outubro',' Novembro',' Dezembro')\n",
    "escolha.grid(column = 1, row = 5)\n",
    "escolha.current()\n",
    "janela.mainloop()"
   ]
  }
 ],
 "metadata": {
  "kernelspec": {
   "display_name": "Python 3",
   "language": "python",
   "name": "python3"
  },
  "language_info": {
   "codemirror_mode": {
    "name": "ipython",
    "version": 3
   },
   "file_extension": ".py",
   "mimetype": "text/x-python",
   "name": "python",
   "nbconvert_exporter": "python",
   "pygments_lexer": "ipython3",
   "version": "3.12.6"
  }
 },
 "nbformat": 4,
 "nbformat_minor": 2
}
